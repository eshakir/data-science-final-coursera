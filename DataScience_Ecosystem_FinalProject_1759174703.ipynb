{
  "cells": [
    {
      "cell_type": "markdown",
      "metadata": {
        "exercise": 2
      },
      "source": [
        "# Data Science Tools and Ecosystem\n",
        "\n",
        "Final Project"
      ]
    },
    {
      "cell_type": "markdown",
      "id": "1ed418bb",
      "metadata": {},
      "source": [
        "## Author\n",
        "Eesa Shakir"
      ]
    },
    {
      "cell_type": "markdown",
      "metadata": {
        "exercise": 3
      },
      "source": [
        "## Introduction\n",
        "In this notebook, I will summarize some of the most popular data science languages, libraries, and tools. I'll also evaluate a few arithmetic expressions in Python and convert minutes to hours as simple practice."
      ]
    },
    {
      "cell_type": "markdown",
      "id": "8937068e",
      "metadata": {},
      "source": [
        "## Objectives\n",
        "- List common data science languages\n",
        "- Identify popular data science libraries\n",
        "- Present a table of data science tools\n",
        "- Evaluate simple arithmetic expressions in Python\n",
        "- Convert minutes to hours with Python code\n",
        "- Practice markdown formatting and headings\n",
        "- Share a notebook publicly on GitHub"
      ]
    },
    {
      "cell_type": "markdown",
      "metadata": {
        "exercise": 4
      },
      "source": [
        "## Data Science Languages\n",
        "Some widely used languages for data science include:\n",
        "\n",
        "1. Python  \n",
        "2. R  \n",
        "3. SQL  \n",
        "4. Julia  \n",
        "5. Scala"
      ]
    },
    {
      "cell_type": "markdown",
      "metadata": {
        "exercise": 5
      },
      "source": [
        "## Data Science Libraries\n",
        "Common libraries and packages used by data scientists:\n",
        "\n",
        "- **NumPy** — fast numerical computing and arrays  \n",
        "- **pandas** — data frames, wrangling, and I/O  \n",
        "- **Matplotlib** / **Plotly** — visualization  \n",
        "- **scikit-learn** — machine learning  \n",
        "- **TensorFlow** / **PyTorch** — deep learning  \n",
        "- **Spark (PySpark)** — distributed processing"
      ]
    },
    {
      "cell_type": "markdown",
      "metadata": {
        "exercise": 6
      },
      "source": [
        "## Data Science Tools\n",
        "\n",
        "| Tool | Category / Use |\n",
        "|---|---|\n",
        "| JupyterLab | Interactive notebooks and prototyping |\n",
        "| RStudio | IDE for R (and Python) |\n",
        "| Visual Studio Code | General-purpose code editor with data plugins |\n",
        "| Apache Zeppelin | Web-based notebook for big data |\n",
        "| Google Colab | Hosted notebooks with GPUs |\n",
        "| Apache Spark | Distributed computing engine |\n",
        "| PostgreSQL | Relational database |\n"
      ]
    },
    {
      "cell_type": "markdown",
      "metadata": {
        "exercise": 7
      },
      "source": [
        "## Arithmetic Expression Examples\n",
        "Below, we demonstrate a couple of basic arithmetic operations in Python."
      ]
    },
    {
      "cell_type": "code",
      "execution_count": null,
      "metadata": {
        "exercise": 8
      },
      "outputs": [],
      "source": [
        "# Exercise 8 — multiply and add numbers\n",
        "a = 6\n",
        "b = 7\n",
        "c = 3\n",
        "\n",
        "product = a * b  # 6 × 7 = 42\n",
        "result = product + c  # 42 + 3 = 45\n",
        "\n",
        "print(\"a =\", a, \"b =\", b, \"c =\", c)\n",
        "print(\"product (a*b) =\", product)\n",
        "print(\"result (a*b + c) =\", result)"
      ]
    },
    {
      "cell_type": "code",
      "execution_count": null,
      "metadata": {
        "exercise": 9
      },
      "outputs": [],
      "source": [
        "# Exercise 9 — convert minutes to hours\n",
        "minutes = 200  # change this value to test other conversions\n",
        "hours = minutes / 60\n",
        "print(minutes, \"minutes is\", hours, \"hours\")"
      ]
    }
  ],
  "metadata": {
    "authors": [
      {
        "name": "Your Name Here"
      }
    ],
    "kernelspec": {
      "display_name": "Python 3",
      "language": "python",
      "name": "python3"
    },
    "language_info": {
      "name": "python",
      "version": "3.x"
    }
  },
  "nbformat": 4,
  "nbformat_minor": 5
}
